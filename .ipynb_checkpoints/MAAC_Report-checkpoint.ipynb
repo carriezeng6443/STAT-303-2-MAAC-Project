{
 "cells": [
  {
   "cell_type": "raw",
   "id": "33dd6c4c",
   "metadata": {},
   "source": [
    "---\n",
    "title: \"Project Report\"\n",
    "subtitle: Team name\n",
    "author: Michael Cui, Angelica Wang, Annie Zhou, Carrie Zeng\n",
    "date: 02/27/2023\n",
    "number-sections: true\n",
    "abstract: _Our goal in this project is to improve campaign effectiveness by identifying the key factors that impact a campaign's success and forecasting whether a particular client will subscribe to a term deposit. Due to imbalanced data, we use resampling techniques prior to model creation. Following data preprocessing, we construct two models, including manual logistic regression model and the model built by the forward stepwise selection_.\n",
    "format: \n",
    "  html:\n",
    "    toc: true\n",
    "    toc-title: Contents\n",
    "    self-contained: true\n",
    "    font-size: 100%\n",
    "    toc-depth: 4\n",
    "    mainfont: serif\n",
    "jupyter: python3\n",
    "---"
   ]
  },
  {
   "cell_type": "code",
   "execution_count": 3,
   "id": "b2fe2668",
   "metadata": {},
   "outputs": [],
   "source": [
    "import pandas as pd\n",
    "import numpy as np\n",
    "import matplotlib.pyplot as plt\n",
    "import sklearn as sk\n",
    "import seaborn as sns\n",
    "import statsmodels.formula.api as smf\n",
    "import math\n",
    "import statsmodels.formula.api as sm"
   ]
  },
  {
   "cell_type": "code",
   "execution_count": 4,
   "id": "befd94be",
   "metadata": {},
   "outputs": [],
   "source": [
    "data = pd.read_csv('data.csv', sep=';')"
   ]
  },
  {
   "cell_type": "markdown",
   "id": "0116f49b",
   "metadata": {},
   "source": [
    "## Background / Motivation\n",
    "\n",
    "Term deposit is a fix-term investment that includes the deposit of money into an account at a financial institution. It is very important to a commercial bank’s operation because the bank makes a profit by lending the funds held in term deposit for a higher interest rate than the rate it pays on the time deposits, and a healthy amount of term deposit will allow the bank to have a healthy cash flow and thus better operation. As a result, increasing clients’ likelihood to subscribe to term deposits is key to increasing the bank’s revenue.  "
   ]
  },
  {
   "cell_type": "markdown",
   "id": "84ff1421",
   "metadata": {},
   "source": [
    "## Problem statement \n",
    "\n",
    "Therefore, We are interested in predicting whether the client would subscribe to the term-deposit in a Portuguese bank based on the direct marketing campaign information. More specifically, we will explore the client’s demographics such as job, marital status, education, balance, housing, contact dates, as well as other previous marketing efforts and their association with clients’ decision to subscribe to term deposit. We hope to determine whether the marketing campaign is effective and to what degree each factor impacts the marketing effectiveness. This is a classification problem because there are two non continuous, categorical results - yes or no (deposit). Therefore, when making the model, we basically splitted the responses into two groups, clients that did subscribe to term deposit and the clients that didn’t. This is a prediction problem as we are interested in predicting whether a client would subscribe to the term deposit based on marketing campaign information and demographic information."
   ]
  },
  {
   "cell_type": "markdown",
   "id": "38c7b95f",
   "metadata": {},
   "source": [
    "## Data sources\n",
    "We will use the Bank Marketing dataset from UCI Machine Learning Repository: https://archive.ics.uci.edu/ml/datasets/Bank+Marketing This data set includes 4119 observations of telemarketing campaigns of a Portuguese banking institution. The attributes include 21 variables such as client data, information of the last contact of the current campaign, and social and economic context attributes. The outcome variable is whether or not the client has subscribed a term deposit. This data source will help us answer the question because it provides client demographic and financial information and campaign contact history, which could provide critical information for the targeted audience and marketing strategy that could maximize the success rate of telemarketing."
   ]
  },
  {
   "cell_type": "markdown",
   "id": "8c255035",
   "metadata": {},
   "source": [
    "## Stakeholders\n",
    "Stakeholders of the project include the observed banking institutions, which can use the findings for the purpose of internal auditing, improving future marketing strategies, and tailoring banking products to their target audiences. The insights of the marketing campaign can help the observed banking institution to achieve their goals of providing suitable services to its customers, maximize cost-effectiveness in marketing, and improve financial inclusion for the community. The result can also benefit other institutions in the banking industry and social scientists studying economics, finance, and marketing. It can shed light to people’s behavior in phone call campaigns and financial decisions. \n"
   ]
  },
  {
   "cell_type": "markdown",
   "id": "fe7ea9bb",
   "metadata": {},
   "source": [
    "## Data quality check / cleaning / preparation \n",
    "\n"
   ]
  },
  {
   "cell_type": "markdown",
   "id": "836ed429",
   "metadata": {},
   "source": [
    "**There are three steps for data prearation:**\n",
    "\n",
    "**(1) Dropping Missing Values**\n",
    "\n",
    "**(2) Merging the entries in catogroical variables**\n",
    "\n",
    "**(3) Resampling the imbalanced dataset through SMOTE**\n",
    "\n",
    "**(4) Eliminating the multicollinearity issue through checking VIF**"
   ]
  },
  {
   "cell_type": "code",
   "execution_count": 5,
   "id": "cf2cdd82",
   "metadata": {},
   "outputs": [
    {
     "data": {
      "text/plain": [
       "age               0\n",
       "job               0\n",
       "marital           0\n",
       "education         0\n",
       "default           0\n",
       "housing           0\n",
       "loan              0\n",
       "contact           0\n",
       "month             0\n",
       "day_of_week       0\n",
       "duration          0\n",
       "campaign          0\n",
       "pdays             0\n",
       "previous          0\n",
       "poutcome          0\n",
       "emp.var.rate      0\n",
       "cons.price.idx    0\n",
       "cons.conf.idx     0\n",
       "euribor3m         0\n",
       "nr.employed       0\n",
       "y                 0\n",
       "dtype: int64"
      ]
     },
     "execution_count": 5,
     "metadata": {},
     "output_type": "execute_result"
    }
   ],
   "source": [
    "data.isnull().sum()"
   ]
  },
  {
   "cell_type": "code",
   "execution_count": 8,
   "id": "4768fda4",
   "metadata": {},
   "outputs": [
    {
     "name": "stdout",
     "output_type": "stream",
     "text": [
      "Value counts for job:\n",
      "admin.           1012\n",
      "blue-collar       884\n",
      "technician        691\n",
      "services          393\n",
      "management        324\n",
      "retired           166\n",
      "self-employed     159\n",
      "entrepreneur      148\n",
      "unemployed        111\n",
      "housemaid         110\n",
      "student            82\n",
      "unknown            39\n",
      "Name: job, dtype: int64\n",
      "\n",
      "Value counts for marital:\n",
      "married     2509\n",
      "single      1153\n",
      "divorced     446\n",
      "unknown       11\n",
      "Name: marital, dtype: int64\n",
      "\n",
      "Value counts for education:\n",
      "university.degree      1264\n",
      "high.school             921\n",
      "basic.9y                574\n",
      "professional.course     535\n",
      "basic.4y                429\n",
      "basic.6y                228\n",
      "unknown                 167\n",
      "illiterate                1\n",
      "Name: education, dtype: int64\n",
      "\n",
      "Value counts for default:\n",
      "no         3315\n",
      "unknown     803\n",
      "yes           1\n",
      "Name: default, dtype: int64\n",
      "\n",
      "Value counts for housing:\n",
      "yes        2175\n",
      "no         1839\n",
      "unknown     105\n",
      "Name: housing, dtype: int64\n",
      "\n",
      "Value counts for loan:\n",
      "no         3349\n",
      "yes         665\n",
      "unknown     105\n",
      "Name: loan, dtype: int64\n",
      "\n",
      "Value counts for contact:\n",
      "cellular     2652\n",
      "telephone    1467\n",
      "Name: contact, dtype: int64\n",
      "\n",
      "Value counts for month:\n",
      "may    1378\n",
      "jul     711\n",
      "aug     636\n",
      "jun     530\n",
      "nov     446\n",
      "apr     215\n",
      "oct      69\n",
      "sep      64\n",
      "mar      48\n",
      "dec      22\n",
      "Name: month, dtype: int64\n",
      "\n",
      "Value counts for day_of_week:\n",
      "thu    860\n",
      "mon    855\n",
      "tue    841\n",
      "wed    795\n",
      "fri    768\n",
      "Name: day_of_week, dtype: int64\n",
      "\n",
      "Value counts for poutcome:\n",
      "nonexistent    3523\n",
      "failure         454\n",
      "success         142\n",
      "Name: poutcome, dtype: int64\n",
      "\n",
      "Value counts for y:\n",
      "no     3668\n",
      "yes     451\n",
      "Name: y, dtype: int64\n",
      "\n"
     ]
    }
   ],
   "source": [
    "cat_columns = data.select_dtypes(include=['object']).columns\n",
    "\n",
    "# Loop through each categorical column and print the value counts\n",
    "for col in cat_columns:\n",
    "    print(f\"Value counts for {col}:\")\n",
    "    print(data[col].value_counts())\n",
    "    print()"
   ]
  },
  {
   "cell_type": "markdown",
   "id": "f9780f70",
   "metadata": {},
   "source": [
    "(1) There is no missing values for numeric variables. Even though the dataset does not have any direct missing values (shown as NA) for catogorical variables, it still contains many missing values in the form of “UNKNOWN”. Thus, we still need to deal with the missing data. Generally, we drop the variables if they have more than 40% of unknown data. On the other hand, since there are very small proportions of observation with unknown data, and most of them have more than 2 missing values. Thus, we just decided to drop these rows."
   ]
  },
  {
   "cell_type": "markdown",
   "id": "79a09d28",
   "metadata": {},
   "source": [
    "(2) We binned some of the categorical data based on our domain knowledge when there are too many mergeable entries in this variable. For example, after merging, the variable “education” will only have three levels of entry: ‘Primary', 'Secondary', and 'Tertiary'."
   ]
  },
  {
   "cell_type": "code",
   "execution_count": 18,
   "id": "943b77cc",
   "metadata": {},
   "outputs": [
    {
     "data": {
      "text/plain": [
       "Text(0.5, 1.0, 'Has the client subscribed a term deposit?')"
      ]
     },
     "execution_count": 18,
     "metadata": {},
     "output_type": "execute_result"
    },
    {
     "data": {
      "image/png": "[encoded data removed]",
      "text/plain": [
       "<Figure size 300x500 with 1 Axes>"
      ]
     },
     "metadata": {},
     "output_type": "display_data"
    }
   ],
   "source": [
    "Subscription = {'Yes':3398, 'No':413}\n",
    "YN = list(Subscription.keys())\n",
    "Counts = list(Subscription.values())\n",
    "  \n",
    "fig = plt.figure(figsize = (3, 5))\n",
    "\n",
    "# creating the bar plot\n",
    "plt.bar(YN, Counts, color = ['powderblue', 'steelblue'], width = 0.7)\n",
    " \n",
    "plt.title(\"Has the client subscribed a term deposit?\",fontdict={'fontsize': '11', 'fontweight' : 'bold'})"
   ]
  },
  {
   "cell_type": "code",
   "execution_count": 19,
   "id": "6e03e8df",
   "metadata": {},
   "outputs": [
    {
     "data": {
      "text/plain": [
       "Text(0.5, 1.0, 'Has the client subscribed a term deposit? (SMOTE)')"
      ]
     },
     "execution_count": 19,
     "metadata": {},
     "output_type": "execute_result"
    },
    {
     "data": {
      "image/png": "[encoded data removed]",
      "text/plain": [
       "<Figure size 300x500 with 1 Axes>"
      ]
     },
     "metadata": {},
     "output_type": "display_data"
    }
   ],
   "source": [
    "Subscription = {'Yes':3398, 'No':3398}\n",
    "YN = list(Subscription.keys())\n",
    "Counts = list(Subscription.values())\n",
    "  \n",
    "fig = plt.figure(figsize = (3, 5))\n",
    "\n",
    "# creating the bar plot\n",
    "plt.bar(YN, Counts, color = ['powderblue', 'steelblue'], width = 0.7)\n",
    " \n",
    "plt.title(\"Has the client subscribed a term deposit? (SMOTE)\",fontdict={'fontsize': '12', 'fontweight' : 'bold'})"
   ]
  },
  {
   "cell_type": "markdown",
   "id": "6dc79190",
   "metadata": {},
   "source": [
    "(3) Since the dataset is extremely imbalanced. Those clients who successfully subscribe the term deposit is only about 10 percent of the whole dataset. Thus, we decided to apply Synthetic Minority Oversampling Technique (SMOTE) to fix the problem on training data. SMOTE helps to create the synthetic data for the minority group based on the K-nearest neighbor algorithm. The modified sample has a balanced distribution between “YES” and “NO”."
   ]
  },
  {
   "cell_type": "markdown",
   "id": "aad609b2",
   "metadata": {},
   "source": [
    "(4) When using VIF analysis to avoid the multicollinearity issues, we dropped one variable \"nr_employed\" to make all the variables with VIF value lower than 10. The variable dropped seems to have a strong correlation with \"euribor3m\", which is a very good predictor for our model."
   ]
  },
  {
   "cell_type": "markdown",
   "id": "fbb11c9b",
   "metadata": {},
   "source": [
    "## Exploratory data analysis"
   ]
  },
  {
   "cell_type": "markdown",
   "id": "e4bd74a9",
   "metadata": {},
   "source": [
    "After data cleaning, we proceeded to EDA, which helped us visualize the relationship between each predictor and subscription rate. \n",
    "\n",
    "We looked at age, number of contacts before the campaign and during the campaign, with the client, Euribor (Euro Interbank Offered Rate: average interest rates at which a large panel of European banks borrow), and consumer confidence index. These variables are continuous variables. Before creating the plots, we first binned them (i.e. create bins). For instance, age is continuous and it’s binned into 4 such that the number of elements in each bin is as equal as possible. Once we bin it, we plot the frequency of the underlying value in the bin.\n",
    "\n",
    "We illustrated the relationships between these numerical variables with the response variable (subscription = “Yes” or “No”) with the heatmap, bar plots, scatterplots, and line plots. This provided us critical insights to incorporate into our model. For example, we created a frequency plot for the variable “previous”, which is the number of contacts performed before this campaign and for this client. Looking at the visualization for previous contact, we realized the relationship between previous contact and subscription rate is roughly quadratic. Specifically, the number of previous contacts has a positive relationship with successful subscription until about 8 contacts, after which subscription rate will start to decrease. This makes sense intuitively because previous contacts help improve familiarity between the banks and the clients. Yet, when the banks try to contact the clients too frequently, the client may view contacts as disturbing, which makes them less likely to want to subscribe to the term deposit. We incorporated the quadratic transformation of “previous contact” in our model 1, which turned out to improve model accuracy. \n",
    "\n",
    "Another transformation we included was a log transformation on “campaign”. Campaign is the number of contacts performed during this campaign and for this client.  Looking at the frequency plot, we realized that the relationship between campaign and subscription rate roughly presents a log relationship. This inspired us to include the log transformation of “campaign” into our mode. Lastly, looking at the plot on “cons_conf_idx”, which is the “consumer confidence index, we experimented with a log transformation on the variable. This helped improve our model accuracy. \n",
    "For categorical variables, we found that “day_of_week”, “education”, “marital status”, “month”, and “poutcome” were largely correlated with subscription rate. In particular,  “poutcome”, the outcome of the previous marketing campaign has a significant relationship with subscription rate. The subscription rate is much higher when the previous outcome was successful compared to when it’s failure or nonexistent. Therefore, we decided to bind failure and nonexistent observations from successful ones. This helped distinguish clients with successful previous outcomes. This transformation of the variable significantly helped our model. We also included other categorical variables mentioned above in our model as they exhibited significant relationships with our outcome variable. \n",
    "\n",
    "Overall economic and social environment is important to clients’ financial decisions as consumer confidence index, Euribor, and month all play an important role in our model.\n",
    "\n"
   ]
  },
  {
   "cell_type": "markdown",
   "id": "d39c782c",
   "metadata": {},
   "source": [
    "## Approach\n",
    "\n",
    "What kind of a model (linear / logistic / other) did you use? What performance metric(s) did you optimize and why?\n",
    "\n",
    "Is there anything unorthodox / new in your approach? \n",
    "\n",
    "What problems did you anticipate? What problems did you encounter? Did the very first model you tried work? \n",
    "\n",
    "Did your problem already have solution(s) (posted on Kaggle or elsewhere). If yes, then how did you build upon those solutions, what did you do differently? Is your model better as compared to those solutions in terms of prediction / inference?\n",
    "\n",
    "**Important: Mention any code repositories (with citations) or other sources that you used, and specifically what changes you made to them for your project.**"
   ]
  },
  {
   "cell_type": "markdown",
   "id": "acab331a",
   "metadata": {},
   "source": [
    "## Developing the model"
   ]
  },
  {
   "cell_type": "markdown",
   "id": "ae5ec4c9",
   "metadata": {},
   "source": [
    "Explain the steps taken to develop and improve the base model - informative visualizations / addressing modeling assumption violations / variable transformation / interactions / outlier treatment / influential points treatment / addressing over-fitting / addressing multicollinearity / variable selection - stepwise regression, lasso, ridge regression). \n",
    "\n",
    "Did you succeed in achieving your goal, or did you fail? Why?\n",
    "\n",
    "**Put the final model equation**.\n",
    "\n",
    "**Important: This section should be rigorous and thorough. Present detailed information about decision you made, why you made them, and any evidence/experimentation to back them up.**"
   ]
  },
  {
   "cell_type": "markdown",
   "id": "1b46343d",
   "metadata": {},
   "source": [
    "## Limitations of the model with regard to inference / prediction"
   ]
  },
  {
   "cell_type": "markdown",
   "id": "c85ead90",
   "metadata": {},
   "source": [
    "The biggest limitation of our model is that the dataset is outdated. The dataset is collected from May 2008 to November 2010, which is a decade ago. And for now, instead of using telephones, many of the banks will use apps or Tik Tok for attracting clients. The marketing strategy has completely changed over the past 10 years. \n",
    "\n",
    "However, our model still has its power due to the following two reasons: \n",
    "\n",
    "（1）The process of building our model can be useful for banks. When they have the updated demographic information, they can re-do the process and have an updated model that is not obsolete. \n",
    "\n",
    "（2）Even though this is a prediction model, the inference can be derived from the statistical significance of different variables. For instance, euribor 3 month rate is a very important predictor for classification. When the banks are trying to market their term deposit, the social and economic environment should not be ignored. \n"
   ]
  },
  {
   "cell_type": "markdown",
   "id": "62a185cb",
   "metadata": {},
   "source": [
    "## Conclusions and Recommendations to stakeholder(s)\n",
    "\n",
    "What conclusions do you draw based on your model? If it is inference you may draw conclusions based on the coefficients, statistical significance of predictors / interactions, etc. If it is prediction, you may draw conclusions based on prediction accuracy, or other performance metrics.\n",
    "\n",
    "How do you use those conclusions to come up with meaningful recommendations for stakeholders? The recommendations must be action-items for stakeholders that they can directly implement without any further analysis. Be as precise as possible. The stakeholder(s) are depending on you to come up with practically implementable recommendations, instead of having to think for themselves.\n",
    "\n",
    "If your recommendations are not practically implementable by stakeholders, how will they help them? Is there some additional data / analysis / domain expertise you need to do to make the recommendations implementable? \n",
    "\n",
    "Do the stakeholder(s) need to be aware about some limitations of your model? Is your model only good for one-time use, or is it possible to update your model at a certain frequency (based on recent data) to keep using it in the future? If it can be used in the future, then for how far into the future?"
   ]
  },
  {
   "cell_type": "markdown",
   "id": "9c44497c",
   "metadata": {},
   "source": [
    "## GitHub and individual contribution {-}"
   ]
  },
  {
   "cell_type": "markdown",
   "id": "c98b3f66",
   "metadata": {},
   "source": [
    "Put the **Github link** for the project repository."
   ]
  },
  {
   "cell_type": "markdown",
   "id": "0ca45613",
   "metadata": {},
   "source": [
    "Add details of each team member's contribution in the table below."
   ]
  },
  {
   "cell_type": "markdown",
   "id": "5505da5c",
   "metadata": {},
   "source": [
    "<html>\n",
    "<style>\n",
    "table, td, th {\n",
    "  border: 1px solid black;\n",
    "}\n",
    "\n",
    "table {\n",
    "  border-collapse: collapse;\n",
    "  width: 100%;\n",
    "}\n",
    "\n",
    "th {\n",
    "  text-align: left;\n",
    "}\n",
    "    \n",
    "\n",
    "</style>\n",
    "<body>\n",
    "\n",
    "<h2>Individual contribution</h2>\n",
    "\n",
    "<table style=\"width:100%\">\n",
    "     <colgroup>\n",
    "       <col span=\"1\" style=\"width: 15%;\">\n",
    "       <col span=\"1\" style=\"width: 20%;\">\n",
    "       <col span=\"1\" style=\"width: 50%;\">\n",
    "       <col span=\"1\" style=\"width: 15%;\"> \n",
    "    </colgroup>\n",
    "  <tr>\n",
    "    <th>Team member</th>\n",
    "    <th>Contributed aspects</th>\n",
    "    <th>Details</th>\n",
    "    <th>Number of GitHub commits</th>\n",
    "  </tr>\n",
    "  <tr>\n",
    "    <td>Yide Cui</td>\n",
    "    <td>Data cleaning and Dataset resampling </td>\n",
    "    <td>Cleaned data to impute missing values, re-categorized the entries of categorical data, oversampled the minority class for balancing the dataset.</td>\n",
    "    <td>15</td>\n",
    "  </tr>\n",
    "  <tr>\n",
    "    <td>Carrie Zeng</td>\n",
    "    <td>Assumptions and interactions</td>\n",
    "    <td>Checked and addressed modeling assumptions and identified relevant variable interactions.</td>\n",
    "    <td>120</td>\n",
    "  </tr>\n",
    "    <tr>\n",
    "    <td>Angelica Wang</td>\n",
    "    <td>Outlier and influential points treatment</td>\n",
    "    <td>Identified outliers/influential points and analayzed their effect on the model.</td>\n",
    "    <td>130</td>    \n",
    "  </tr>\n",
    "    <tr>\n",
    "    <td>Annie Zhou</td>\n",
    "    <td>Variable selection and addressing overfitting</td>\n",
    "    <td>Performed variable selection on an exhaustive set of predictors to address multicollinearity and overfitting.</td>\n",
    "    <td>150</td>    \n",
    "  </tr>\n",
    "</table>"
   ]
  },
  {
   "cell_type": "markdown",
   "id": "192bbd23",
   "metadata": {},
   "source": [
    "List the **challenges** you faced when collaborating with the team on GitHub. Are you comfortable using GitHub? \n",
    "Do you feel GitHuB made collaboration easier? If not, then why? *(Individual team members can put their opinion separately, if different from the rest of the team)*"
   ]
  },
  {
   "cell_type": "markdown",
   "id": "00b1cafe",
   "metadata": {},
   "source": [
    "## References {-}"
   ]
  },
  {
   "cell_type": "markdown",
   "id": "ebdb1aad",
   "metadata": {},
   "source": [
    "List and number all bibliographical references. When referenced in the text, enclose the citation number in square brackets, for example [1].\n",
    "\n",
    "[1] Authors. The frobnicatable foo filter, 2014. Face and Gesture submission ID 324. Supplied as additional material\n",
    "fg324.pdf. 3\n"
   ]
  }
 ],
 "metadata": {
  "kernelspec": {
   "display_name": "Python 3 (ipykernel)",
   "language": "python",
   "name": "python3"
  },
  "language_info": {
   "codemirror_mode": {
    "name": "ipython",
    "version": 3
   },
   "file_extension": ".py",
   "mimetype": "text/x-python",
   "name": "python",
   "nbconvert_exporter": "python",
   "pygments_lexer": "ipython3",
   "version": "3.9.13"
  }
 },
 "nbformat": 4,
 "nbformat_minor": 5
}
