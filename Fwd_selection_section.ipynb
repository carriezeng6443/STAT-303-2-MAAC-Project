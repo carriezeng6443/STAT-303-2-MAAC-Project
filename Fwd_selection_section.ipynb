{
 "cells": [
  {
   "cell_type": "markdown",
   "id": "53b08707",
   "metadata": {},
   "source": [
    "### Forward Stepwise Selection Model\n",
    "by Annie Zhou"
   ]
  },
  {
   "cell_type": "code",
   "execution_count": null,
   "id": "36e5d8ba",
   "metadata": {},
   "outputs": [],
   "source": [
    "# create a copy for stepwise selection \n",
    "# data processing: categorical to dummy\n",
    "def stepwise_trans(data):\n",
    "    stepwise_data = data.copy()\n",
    "\n",
    "    stepwise_data['employed'] = stepwise_data['job'].replace({'Employed': 1, 'Unemployed': 0})\n",
    "    stepwise_data['married'] = stepwise_data['marital'].replace({'married': 1, 'single': 0})\n",
    "    stepwise_data['housing'] = stepwise_data['housing'].replace({'yes': 1, 'no': 0})\n",
    "    stepwise_data['contact_cell'] = stepwise_data['contact'].replace({'cellular': 1, 'telephone': 0})\n",
    "    stepwise_data['loan'] = stepwise_data['loan'].replace({'yes': 1, 'no': 0})\n",
    "\n",
    "    # get dummies\n",
    "    edu_dum = pd.get_dummies(stepwise_data.education, drop_first=True)\n",
    "    stepwise_data = pd.concat([stepwise_data,edu_dum.add_suffix('_edu')], axis = 1)\n",
    "\n",
    "    #stepwise_data = pd.concat([stepwise_data,pd.get_dummies(stepwise_data.month, drop_first=True)], axis = 1)\n",
    "\n",
    "    #stepwise_data = pd.concat([stepwise_data,pd.get_dummies(stepwise_data.day_of_week, drop_first=True)], axis = 1)\n",
    "       \n",
    "    stepwise_data = stepwise_data.drop(['marital', 'contact','job','education', 'poutcome'], axis = 1)\n",
    "    return stepwise_data"
   ]
  },
  {
   "cell_type": "code",
   "execution_count": null,
   "id": "78aaf192",
   "metadata": {},
   "outputs": [],
   "source": [
    "stepwise_train = stepwise_trans(train)\n",
    "stepwise_test = stepwise_trans(test)"
   ]
  },
  {
   "cell_type": "code",
   "execution_count": null,
   "id": "d9ec3f3f",
   "metadata": {},
   "outputs": [],
   "source": [
    "# check for categorical variables\n",
    "num_cols = stepwise_train._get_numeric_data().columns\n",
    "cat_cols = list(set(stepwise_train.columns) - set(num_cols))\n",
    "cat_cols"
   ]
  },
  {
   "cell_type": "code",
   "execution_count": null,
   "id": "a9b8706f",
   "metadata": {},
   "outputs": [],
   "source": [
    "stepwise_train = stepwise_train.drop(cat_cols, axis = 1)\n",
    "stepwise_train.columns"
   ]
  },
  {
   "cell_type": "code",
   "execution_count": null,
   "id": "104b6411",
   "metadata": {},
   "outputs": [],
   "source": [
    "X = stepwise_train.drop(\"y_dum\", axis=1)"
   ]
  },
  {
   "cell_type": "code",
   "execution_count": null,
   "id": "2ead9c93",
   "metadata": {},
   "outputs": [],
   "source": [
    "# check for multicollinearity\n",
    "\n",
    "from statsmodels.stats.outliers_influence import variance_inflation_factor\n",
    "from statsmodels.tools.tools import add_constant\n",
    "\n",
    "X = add_constant(X)\n",
    "vif_data = pd.DataFrame()\n",
    "vif_data[\"predictor\"] = X.columns\n",
    "\n",
    "for i in range(len(X.columns)):\n",
    "    vif_data.loc[i,'VIF'] = variance_inflation_factor(X.values, i)\n",
    "\n",
    "print(vif_data)"
   ]
  },
  {
   "cell_type": "code",
   "execution_count": null,
   "id": "f8616232",
   "metadata": {},
   "outputs": [],
   "source": [
    "drop_var = vif_data.loc[vif_data['VIF']>=10, 'predictor']\n",
    "X = X.drop(drop_var, axis = 1)\n",
    "\n",
    "X.columns"
   ]
  },
  {
   "cell_type": "code",
   "execution_count": null,
   "id": "d475702d",
   "metadata": {},
   "outputs": [],
   "source": [
    "# create X_backup for interaction\n",
    "X_backup = X"
   ]
  },
  {
   "cell_type": "code",
   "execution_count": null,
   "id": "69416108",
   "metadata": {},
   "outputs": [],
   "source": [
    "#Including 2-factor interactions of predictors in train and 'X'.\n",
    "for combo in itertools.combinations(X_backup.columns, 2):    \n",
    "    stepwise_train['_'.join(combo)] = stepwise_train[combo[0]]*stepwise_train[combo[1]]\n",
    "    stepwise_test['_'.join(combo)] = stepwise_test[combo[0]]*stepwise_test[combo[1]]\n",
    "    X.loc[:,'_'.join(combo)] = stepwise_train.loc[:,'_'.join(combo)] "
   ]
  },
  {
   "cell_type": "code",
   "execution_count": null,
   "id": "f1ef78f5",
   "metadata": {},
   "outputs": [],
   "source": [
    "#Function to develop a model based on all predictors in predictor_subset\n",
    "def processSubset(predictor_subset):\n",
    "    # Fit model on feature_set and calculate R-squared\n",
    "    model = sm.logit('y_dum~' + '+'.join(predictor_subset),data = stepwise_train).fit()\n",
    "    bic = model.bic\n",
    "    return {\"model\":model, \"bic\":bic}\n",
    "\n",
    "#Function to find the best predictor out of p-k predictors and add it to the model containing the k predictors\n",
    "def forward(predictors):\n",
    "\n",
    "    # Pull out predictors we still need to process\n",
    "    remaining_predictors = [p for p in X.columns if p not in predictors]\n",
    "    \n",
    "    tic = time.time()\n",
    "    \n",
    "    results = []\n",
    "    \n",
    "    for p in remaining_predictors:\n",
    "        results.append(processSubset(predictors+[p]))\n",
    "    \n",
    "    # Wrap everything up in a nice dataframe\n",
    "    models = pd.DataFrame(results)\n",
    "    \n",
    "    # Choose the model with the highest RSS\n",
    "    best_model = models.loc[models['bic'].argmin()]\n",
    "    \n",
    "    toc = time.time()\n",
    "    print(\"Processed \", models.shape[0], \"models on\", len(predictors)+1, \"predictors.\")\n",
    "    \n",
    "    # Return the best model, along with some other useful information about the model\n",
    "    return best_model\n",
    "\n",
    "def forward_selection():\n",
    "    models_best = pd.DataFrame(columns=[\"bic\", \"model\"])\n",
    "\n",
    "    tic = time.time()\n",
    "    predictors = []\n",
    "\n",
    "    for i in range(1,len(X.columns)+1):    \n",
    "        models_best.loc[i] = forward(predictors)\n",
    "        predictors = list(models_best.loc[i][\"model\"].params.index[1:])\n",
    "\n",
    "    toc = time.time()\n",
    "    print(\"Total elapsed time:\", (toc-tic), \"seconds.\")\n",
    "    return models_best"
   ]
  },
  {
   "cell_type": "code",
   "execution_count": null,
   "id": "c947693a",
   "metadata": {},
   "outputs": [],
   "source": [
    "# check for collinearity in interaction terms\n",
    "X = add_constant(X)\n",
    "\n",
    "vif_data = pd.DataFrame()\n",
    "vif_data[\"predictor\"] = X.columns\n",
    "\n",
    "for i in range(len(X.columns)):\n",
    "    vif_data.loc[i,'VIF'] = variance_inflation_factor(X.values, i)\n",
    "\n",
    "drop_var = vif_data.loc[vif_data['VIF'].isna()==True, 'predictor']\n",
    "X = X.drop(drop_var, axis = 1)\n",
    "X = X.drop('const', axis = 1)"
   ]
  },
  {
   "cell_type": "code",
   "execution_count": null,
   "id": "9f59e642",
   "metadata": {},
   "outputs": [],
   "source": [
    "# takes about 5 minutes to run\n",
    "\n",
    "models_best = forward_selection()"
   ]
  },
  {
   "cell_type": "code",
   "execution_count": null,
   "id": "784df2f2",
   "metadata": {},
   "outputs": [],
   "source": [
    "def best_sub_plots():\n",
    "    plt.figure(figsize=(15,8))\n",
    "    plt.rcParams.update({'font.size': 18, 'lines.markersize': 10})\n",
    "\n",
    "    # Set up a 1x2 grid so we can look at 4 plots at once\n",
    "\n",
    "    # We'll do the same for AIC and BIC, this time looking for the models with the SMALLEST statistic\n",
    "    aic = models_best.apply(lambda row: row[1].aic, axis=1)\n",
    "\n",
    "    plt.subplot(1, 2, 1)\n",
    "    plt.plot(aic)\n",
    "    plt.plot(1+aic.argmin(), aic.min(), \"or\")\n",
    "    plt.xlabel('# Predictors')\n",
    "    plt.ylabel('AIC')\n",
    "\n",
    "    bic = models_best.apply(lambda row: row[1].bic, axis=1)\n",
    "\n",
    "    plt.subplot(1, 2, 2)\n",
    "    plt.plot(bic)\n",
    "    plt.plot(1+bic.argmin(), bic.min(), \"or\")\n",
    "    plt.xlabel('# Predictors')\n",
    "    plt.ylabel('BIC')\n",
    "    \n",
    "    print(\"Predictor number with min. AIC: \", 1+aic.argmin())\n",
    "    print(\"Predictor number with min. BIC: \", 1+bic.argmin())"
   ]
  },
  {
   "cell_type": "code",
   "execution_count": null,
   "id": "be1160a1",
   "metadata": {},
   "outputs": [],
   "source": [
    "best_sub_plots()"
   ]
  },
  {
   "cell_type": "code",
   "execution_count": null,
   "id": "54b74538",
   "metadata": {},
   "outputs": [],
   "source": [
    "best_fwd_reg_model = models_best['model'][24]\n",
    "best_fwd_reg_model.summary()"
   ]
  },
  {
   "cell_type": "code",
   "execution_count": null,
   "id": "bb76b0d2",
   "metadata": {},
   "outputs": [],
   "source": [
    "confusion_matrix_data(stepwise_train,stepwise_train.y_dum,best_fwd_reg_model,0.3)"
   ]
  },
  {
   "cell_type": "code",
   "execution_count": null,
   "id": "4419e135",
   "metadata": {},
   "outputs": [],
   "source": [
    "confusion_matrix_data(stepwise_test,stepwise_test.y_dum,best_fwd_reg_model,0.3)"
   ]
  },
  {
   "cell_type": "markdown",
   "id": "95315bde",
   "metadata": {},
   "source": [
    "### Code fitting the final model"
   ]
  },
  {
   "cell_type": "code",
   "execution_count": null,
   "id": "0b055251",
   "metadata": {},
   "outputs": [],
   "source": [
    "fwd_model = sm.logit(formula = 'y_dum~pdays_cons_price_idx+campaign_cons_conf_idx+cons_price_idx_contact_cell+loan_cons_conf_idx+pdays_previous+previous_Tertiary_edu+contact_cell_Secondary_edu+contact_cell_Tertiary_edu+age_employed+housing_contact_cell+loan_Tertiary_edu+loan_cons_price_idx+contact_cell+pdays+cons_conf_idx_contact_cell+cons_price_idx_cons_conf_idx+housing_campaign+cons_conf_idx+cons_price_idx+loan_contact_cell+housing_loan+previous_cons_conf_idx+previous_cons_price_idx+previous', data=stepwise_train).fit()\n",
    "\n",
    "fwd_model.summary()\n"
   ]
  },
  {
   "cell_type": "code",
   "execution_count": null,
   "id": "ee030712",
   "metadata": {},
   "outputs": [],
   "source": [
    "fwd_params = best_fwd_reg_model.params.index.tolist()\n",
    "fwd_params"
   ]
  },
  {
   "cell_type": "code",
   "execution_count": null,
   "id": "28fac5fa",
   "metadata": {},
   "outputs": [],
   "source": [
    "confusion_matrix_data(stepwise_train,stepwise_train.y_dum,best_fwd_reg_model,0.3)"
   ]
  },
  {
   "cell_type": "code",
   "execution_count": null,
   "id": "6e3fc135",
   "metadata": {},
   "outputs": [],
   "source": [
    "confusion_matrix_data(stepwise_test,stepwise_test.y_dum,best_fwd_reg_model,0.3)"
   ]
  }
 ],
 "metadata": {
  "kernelspec": {
   "display_name": "Python 3 (ipykernel)",
   "language": "python",
   "name": "python3"
  },
  "language_info": {
   "codemirror_mode": {
    "name": "ipython",
    "version": 3
   },
   "file_extension": ".py",
   "mimetype": "text/x-python",
   "name": "python",
   "nbconvert_exporter": "python",
   "pygments_lexer": "ipython3",
   "version": "3.9.13"
  }
 },
 "nbformat": 4,
 "nbformat_minor": 5
}
