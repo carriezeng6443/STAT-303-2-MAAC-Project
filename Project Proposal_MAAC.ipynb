{
 "cells": [
  {
   "cell_type": "raw",
   "id": "33dd6c4c",
   "metadata": {},
   "source": [
    "---\n",
    "title: \"Project proposal\"\n",
    "format: \n",
    "  html:\n",
    "    toc: true\n",
    "    toc-title: Contents\n",
    "    code-fold: show\n",
    "    self-contained: true\n",
    "jupyter: python3\n",
    "---"
   ]
  },
  {
   "cell_type": "markdown",
   "id": "0116f49b",
   "metadata": {},
   "source": [
    "## Instructions {-}\n",
    "\n",
    "1. Please answer the following questions as part of your project proposal.\n",
    "\n",
    "2. Write your answers in the *Markdown* cells of the Jupyter notebook. You don't need to write any code, but if you want to, you may use the *Code* cells.\n",
    "\n",
    "3. Use [Quarto](https://quarto.org/docs/output-formats/html-basics.html) to print the *.ipynb* file as HTML. You will need to open the command prompt, navigate to the directory containing the file, and use the command: `quarto render filename.ipynb --to html`. Submit the HTML file.\n",
    "\n",
    "4. The project proposal is worth 8 points, and is due on **27th January 2023 at 11:59 pm**. \n",
    "\n",
    "5. You must make one submission as a group, and not individually.\n",
    "\n",
    "6. Each team member must have at least **one commit** on the team's github repository. No points will be awarded to the team member(s) with no commits.\n",
    "\n",
    "7. Share the link of your project's GitHub repository [here](https://docs.google.com/spreadsheets/d/1khao3unpj_vsx4kOSg_Zzo77YK1UWL2w73Oa0aAirOo/edit#gid=0)."
   ]
  },
  {
   "cell_type": "markdown",
   "id": "fe7ea9bb",
   "metadata": {},
   "source": [
    "# 1) Team name\n",
    "Mention your team name.\n",
    "\n",
    "*(0 points)*"
   ]
  },
  {
   "cell_type": "markdown",
   "id": "62201b44",
   "metadata": {},
   "source": [
    "MAAC"
   ]
  },
  {
   "cell_type": "markdown",
   "id": "16fccc9b",
   "metadata": {},
   "source": [
    "# 2) Member names\n",
    "Mention the names of your team members.\n",
    "\n",
    "*(0 points)*"
   ]
  },
  {
   "cell_type": "markdown",
   "id": "02dd3395",
   "metadata": {},
   "source": [
    "Michael Cui, Angelica Wang, Annie Zhou, Carrie Zeng"
   ]
  },
  {
   "cell_type": "markdown",
   "id": "220a6528",
   "metadata": {},
   "source": [
    "# 3) Link to the GitHub repository\n",
    "Share the link of the team's project repository on GitHub.\n",
    "\n",
    "Also, put the link of your project's GitHub repository [here](https://docs.google.com/spreadsheets/d/1khao3unpj_vsx4kOSg_Zzo77YK1UWL2w73Oa0aAirOo/edit#gid=0).\n",
    "\n",
    "We believe there is no harm in having other teams view your GitHub repository. However, if you don't want anyone to see your team's work, you may make the repository *Private* and add your instructor and graduate TA as *Colloborators* in it.\n",
    "\n",
    "*(0 points)*"
   ]
  },
  {
   "cell_type": "markdown",
   "id": "7eb6736d",
   "metadata": {},
   "source": [
    "https://github.com/carriezeng6443/STAT-303-2-MAAC-Project"
   ]
  },
  {
   "cell_type": "markdown",
   "id": "16c1a490",
   "metadata": {},
   "source": [
    "# 4) Topic\n",
    "Mention the topic of your course project.\n",
    "\n",
    "*(0.25 points)*"
   ]
  },
  {
   "cell_type": "markdown",
   "id": "22d7bcea",
   "metadata": {},
   "source": [
    "Our topic is on bank marketing. We are interested in learning about the relationship between if the client would subscribe to a term deposit in a Portuguese bank and direct marketing campaign. More specifically, we will explore the client’s demographics such as job, marital status, education, balance, housing, contact dates and their association with clients’ decision to subscribe to term deposit. We hope to determine whether the marketing campaign is effective and to what degree each demographic factor impact the marketing effectiveness."
   ]
  },
  {
   "cell_type": "markdown",
   "id": "9403cdfb",
   "metadata": {},
   "source": [
    "# 5) Problem statement\n",
    "Explain the problem statement. The problem statement must include:\n",
    "\n",
    "1. The problem\n",
    "\n",
    "2. Is it a regression or classification problem or a combination of both?\n",
    "\n",
    "3. Is it an inference or prediction problem or a combination of both?\n",
    "\n",
    "4. How will you assess model accuracy?\n",
    "\n",
    "  - If it is a classification problem, then which measure(s) will you optimize for your model – precision, recall, false negative rate (FNR), accuracy, ROC-AUC etc., and why?\n",
    "  - If it is a regression problem, then which measure(s) will you optimize for your model – RMSE (Root mean squared error), MAE (mean absolute error), maximum absolute error etc., and why?\n",
    "\n",
    "5. What techniques do you think you may need to use to improve your model? If you have too many variables, some of which are  correlated or collinear, you may need to do variable selection *(techniques for variable selection that you will learn later in the course - stepwise regression, lasso, ridge regression)*. If the variables do not have a linear relationship with the response, or if some of the modeling assumptions are not satisfied, you may need to transform the predictors and/or the response (variable transformation) to obtain a better fit.\n",
    "\n",
    "*(5 points)*"
   ]
  },
  {
   "cell_type": "markdown",
   "id": "ea16f6df",
   "metadata": {},
   "source": [
    "1. Problem: We wanted to determine the association between the client's demographic factors and their likelihood of subscribing to the bank’s term deposit after the marketing calls. \n",
    "\n",
    "\n",
    "2. This is a classification problem because there are two non continuous, categorical results - yes or no (deposit). Therefore, when making the model, we basically will split the responses into two groups, clients that did subscribe to term deposit and the clients that didn’t. \n",
    "\n",
    "\n",
    "3. This is an inference problem. We are trying to answer how each demographic factors are associated with the clients’ decision to make a deposit most strongly (or their probability of making the deposit)  in order to evaluate marketing effectiveness\n",
    "\n",
    "\n",
    "4. Our research project is a classification problem. We are most interested in exploring the relationship between client’s demographics (eg. job, marital status, education, balance, housing, contact dates) and their decision to subscribe to the term deposit. We want to use various metrics including accuracy, precision and recall. This will enable us to look at the problem from multiple  aspects and find a good balance among these measurements. We also plan to use ROC-AUC because it measures performance for the classification problems at various threshold settings. This is useful  because we can examine and determine the threshold of false positives/false negatives with this metric. A key objective of the project is to understand factors that are associated with marketing failure because we want to improve the cost-efficiency of the campaigns. Therefore, it’s important to minimize false positives (clients who do not subscribe to the deposit, but are classified by the model as marketing success) in order to better  target potential clients, improve marketing effectiveness, and lower  its cost. \n",
    "\n",
    "\n",
    "5. To select the most relevant information, we  plan to first identify variables that have a strong correlation with the marketing outcome (yes-deposit or no-deposit). We want to use both visualizations and correlation matrix to understand the relationship between the variables and the response. Among these variables, some may be strongly correlated with others. For example, “housing” with “loan”, and “education” with “job”.  By using wrapper methods, such as forward selection, backward elimination, stepwise regression, we plan to create an appropriate subset of factors to use. We expect there are more failures (clients do not subscribe to term deposit)  than success (clients subscribing to term deposit). In order to make a more balanced training dataset, we will establish a subset of a sample, half of which will be success cases and the rest will be failure cases. \n"
   ]
  },
  {
   "cell_type": "markdown",
   "id": "3eb2d4f2",
   "metadata": {},
   "source": [
    "# 6) Data sources\n",
    "\n",
    "What data sources will you use, and how will the data help answer the questions? Explain.\n",
    "\n",
    "If the data is open source, share the link of the data.\n",
    "\n",
    "*(1 point)*"
   ]
  },
  {
   "cell_type": "code",
   "execution_count": null,
   "id": "99416bb6",
   "metadata": {},
   "outputs": [],
   "source": [
   "We will use the Bank Marketing dataset from UCI Machine Learning Repository: https://archive.ics.uci.edu/ml/datasets/Bank+Marketing\n",
    "This data set includes 45211 observations of telemarketing campaigns of a Portuguese banking institution. The attributes include client data, information of the last contact of the current campaign, and social and economic context attributes. The outcome variable is whether or not the client has subscribed a term deposit. This data source will help us answer the question because it provides client demographic and financial information and campaign contact history, which could provide critical information for the targeted audience and marketing strategy that could maximize the success rate of telemarketing."
]
  },
  {
   "cell_type": "markdown",
   "id": "cb8a845f",
   "metadata": {},
   "source": [
    "# 7) Stakeholders"
   ]
  },
  {
   "cell_type": "markdown",
   "id": "d39c782c",
   "metadata": {},
   "source": [
    "Who are the stakeholders, and how will your project benefit them? Explain.\n",
    "\n",
    "*(1 point)*"
   ]
  },
  {
   "cell_type": "code",
   "execution_count": null,
   "id": "de8c3db0",
   "metadata": {},
   "outputs": [],
   "source": [
  "Stakeholders of the project include the observed banking institutions, which can use the findings for the purpose of internal auditing, improving future marketing strategies, and tailoring banking products to their target audiences. The insights of the marketing campaign can help the observed banking institution to achieve their goals of providing suitable services to its customers, maximize cost-effectiveness in marketing, and improve financial inclusion for the community. The result can also benefit other institutions in the banking industry and social scientists studying economics, finance, and marketing. It can shed light to people’s behavior in phone call campaigns and financial decisions."
   ]
  },
  {
   "cell_type": "markdown",
   "id": "57e41b2a",
   "metadata": {},
   "source": [
    "# 8) Results\n",
    "What kind of results do you expect? \n",
    "\n",
    "How much accuracy is required / desired in your model (based on the metric(s) chosen in question 5), such that it is useful to the stakeholders and why?\n",
    "\n",
    "**Hint:** If it is a classification model, then your model must be at least better than random classification. If it is a regression model, then your model must be at least better than trivial models, such as the one with only the intercept term.\n",
    "\n",
    "*(0.5 point)*"
   ]
  },
  {
   "cell_type": "markdown",
   "id": "9667b452",
   "metadata": {},
   "source": [
    "For the results, we aim to infer the association between demographic characteristics of customers (such as age, job, education, etc.) and their probability of subscribing to a term deposit, which will expand our understanding of bank’s tele-marketing campaigns and help banks to improve their marketing efficiency. In our expectation, the below predictors may be the most crucial in predicting a client's likelihood of subscribing to a term deposit: age, types of job, whether they have personal loan or house loan. \n",
    "\n",
    "In this research, generally we aim to achieve 90% accuracy for this classification model. Besides, we will use both false negative rate (FNR) and false positive rate (FPR) to further measurement, which should both perform better than the random classification. However, we might put more effort on reducing the FNR. For banks, the cost of phone-call is much lower than the loss of the potential profit of gaining a client who subscribes to a term deposit. Thus, FNR might be more important in this case. In conclusion, we will attempt to achieve higher accuracy and lower FNR in our model in order to avoid the loss of potential customers. "
   ]
  },
  {
   "cell_type": "markdown",
   "id": "0c874b4f",
   "metadata": {},
   "source": [
    "# 9) Work-split\n",
    "How do you plan to split the project work amongst individual team members?\n",
    "\n",
    "*(0.25 point)*"
   ]
  },
  {
   "cell_type": "markdown",
   "id": "27660aac",
   "metadata": {},
   "source": [
    "We will set up a workshop every Wednesday after the lecture to work on the project together so there may be changes to the work-split below. \n",
    "\n",
    "Basically, Michael and Carrie will help more with the data cleaning and preparation, as well as getting the best subject of predictors that we will use in our model. Angelica and Annie will focus on building the model and assessing the model accuracy. Everyone will help with the model analysis and all the writing work (including the presentation and report). "
   ]
  }
 ],
 "metadata": {
  "kernelspec": {
   "display_name": "Python 3 (ipykernel)",
   "language": "python",
   "name": "python3"
  },
  "language_info": {
   "codemirror_mode": {
    "name": "ipython",
    "version": 3
   },
   "file_extension": ".py",
   "mimetype": "text/x-python",
   "name": "python",
   "nbconvert_exporter": "python",
   "pygments_lexer": "ipython3",
   "version": "3.9.13"
  }
 },
 "nbformat": 4,
 "nbformat_minor": 5
}
